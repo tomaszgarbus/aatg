{
 "cells": [
  {
   "cell_type": "markdown",
   "metadata": {},
   "source": [
    "# Satisfiability of CNF formulas\n",
    "\n",
    "In this tutorial we will explore how to solve the satisfiability problem for propositional formulas in conjunctive normal form (CNF). Example:\n",
    "\n",
    "\\begin{align}\n",
    "    \\varphi \\; \\equiv\\; (x_1 \\vee \\neg x_3) \\wedge (x_2 \\vee x_3 \\vee \\neg x_1).\n",
    "\\end{align}\n",
    "\n",
    "## The DIMACS format\n",
    "\n",
    "The DIMACS format is a concrete syntax for propositional formulas in CNF. The following self-explanatory example of the DIMACS syntax corresponds to the formula above."
   ]
  },
  {
   "cell_type": "raw",
   "metadata": {},
   "source": [
    "c comment lines start with character 'c'\n",
    "\n",
    "c the next line says that this SAT instance has 3 variables and 2 clauses\n",
    "p cnf 3 2\n",
    "\n",
    "c the first clause contains \"x_1\" and \"not x_3\"\n",
    "c \"0\" is a terminator that allows clauses to span multiple lines\n",
    "1 -3 0\n",
    "\n",
    "c the second clause contains \"x_2\", \"x_3\", and \"not x_1\"\n",
    "2 3 -1 0"
   ]
  },
  {
   "cell_type": "markdown",
   "metadata": {},
   "source": [
    "The following code constructs a SAT instance and feeds it to the Z3 solver."
   ]
  },
  {
   "cell_type": "code",
   "execution_count": 1,
   "metadata": {},
   "outputs": [
    {
     "name": "stdout",
     "output_type": "stream",
     "text": [
      "sat\n",
      "-1 -2 -3 \n"
     ]
    }
   ],
   "source": [
    "%%script z3 -dimacs -in\n",
    "\n",
    "p cnf 3 2\n",
    "1 -3 0\n",
    "2 3 -1 0"
   ]
  },
  {
   "cell_type": "code",
   "execution_count": 11,
   "metadata": {},
   "outputs": [
    {
     "name": "stdout",
     "output_type": "stream",
     "text": [
      "unsat\n"
     ]
    }
   ],
   "source": [
    "%%script z3 -dimacs -in\n",
    "\n",
    "c Pierce law\n",
    "c First lets transform to dnf formula negating the pierce law\n",
    "c ((x1 -> x2) -> x1) -> x1\n",
    "c x1 -> x2:      not x1 or x2\n",
    "c (x1 -> x2) -> x1:     (not (not x1 or x2) or x1) <=> (x1 or not x2 or x1) <=> (x1 or not x2)\n",
    "c ((x1 -> x2) -> x1) -> x1: not (x1 or not x2) or x1 <=> not x1 or x2 or x1\n",
    "\n",
    "p dnf 1 2\n",
    "-1 0\n",
    "1 0\n",
    "-2 0"
   ]
  },
  {
   "cell_type": "markdown",
   "metadata": {},
   "source": [
    " The output is a satisfying assignment, in this case all three variables are set to false works."
   ]
  },
  {
   "cell_type": "markdown",
   "metadata": {},
   "source": [
    "**Exercise 1 [Tautologies].** The Z3 solver tells us whether the input CNF formula is satisfiable. Consider the following satisfiable formulas:\n",
    "\n",
    "\\begin{align}\n",
    "    \\varphi_1 &\\ \\equiv\\ x_1 \\vee \\neg x_1 & \\textrm{ (excluded middle)} \\\\\n",
    "    \\varphi_2 &\\ \\equiv\\ ((x_1 \\to x_2) \\to x_1) \\to x_1 & \\textrm{ (Pierce's law)}.\n",
    "\\end{align}\n",
    "\n",
    "These formulas are not only satisfiable, but even *tautologies*, in the sense that *every* truth assignment satisfies them.\n",
    "How can we use Z3 in order to check that the formulas above are tautologies?"
   ]
  },
  {
   "cell_type": "markdown",
   "metadata": {},
   "source": [
    "## The Z3 Python interface\n",
    "\n",
    "Encoding more elaborated CNF formulas in the DIMACS format by hand can be tedious.\n",
    "To this end, we will be using Z3 programmatically in Python.\n",
    "The following example shows how the previous two examples are encoded in Python. Note that there is no need to put the formula in CNF (but we must be careful to write formulas which do have a short CNF equivalent)."
   ]
  },
  {
   "cell_type": "code",
   "execution_count": 2,
   "metadata": {},
   "outputs": [
    {
     "name": "stdout",
     "output_type": "stream",
     "text": [
      "no solution\n",
      "no solution\n"
     ]
    }
   ],
   "source": [
    "from z3 import *\n",
    "x = Bool('x')\n",
    "\n",
    "# excluded middle\n",
    "solve(Not(Or(x, Not(x))))\n",
    "\n",
    "# Pierce's law\n",
    "y = Bool('y')\n",
    "solve(Not(Implies(Implies(Implies(x, y), x), x)))"
   ]
  },
  {
   "cell_type": "markdown",
   "metadata": {},
   "source": [
    "**Exercise 2 [Pigeonhole principle]. **\n",
    "This exercise shows a family of formulas, some of which are satisfiable and some unsatisfiable, s.t. there is a great disparity of difficulty posed by these instances to resolution-based solvers, such as Z3.\n",
    "The *pigeonhole principle* says that it is possible to fit $m$ pigeons inside $n$ pigeonholes (with no collisions) if, and only if, $m \\leq n $.\n",
    "\n",
    "- Write a CNF formula $\\varphi_{mn}$ encoding the pigeonhole principle.\n",
    "*Hint: Use propositional variables of the form $x_{ij}$ encoding the fact that pigeon $i$ is in hole $j$, with $1 \\leq i \\leq m$ and $1 \\leq j \\leq n$*.\n",
    "\n",
    "- Write a Python program that, given $m$ and $n$, generates the DIMACS format for $\\varphi_{mn}$ and feeds it to Z3. Which one of the following is more difficult for Z3 to solve: satisfiable or unsatisfiable instances?"
   ]
  },
  {
   "cell_type": "code",
   "execution_count": 17,
   "metadata": {},
   "outputs": [
    {
     "name": "stdout",
     "output_type": "stream",
     "text": [
      "[x0_2 = True,\n",
      " x1_1 = False,\n",
      " x2_0 = False,\n",
      " x2_2 = False,\n",
      " x0_0 = False,\n",
      " x0_1 = False,\n",
      " x1_0 = True,\n",
      " x1_2 = False,\n",
      " x2_1 = True]\n",
      "None\n",
      "CPU times: user 20 ms, sys: 0 ns, total: 20 ms\n",
      "Wall time: 20.5 ms\n"
     ]
    }
   ],
   "source": [
    "%%time\n",
    "#this will give statistics on the time needed to run the cell\n",
    "\n",
    "def pidgeonhole_formula(m=7, n=6):\n",
    "    # A matrix of propositional variables can be created as follows\n",
    "    mkvar = lambda i, j: \"x\" + str(i) + \"_\" + str(j)\n",
    "\n",
    "    x = [ [ Bool(mkvar(i, j)) for j in range(n) ] for i in range(m) ]\n",
    "\n",
    "    # Pro tip: The associative And(...) and Or(...) operators can also take a list of formulas:\n",
    "    pidgeon_has_a_hole = []\n",
    "    for i in range(m):\n",
    "        pidgeon_has_a_hole.append(Or(x[i]))\n",
    "    one_hole_per_pidgeon = [Or(Not(x[i][j]), Not(x[i][k])) for i in range(m) for j in range(n) for k in range(j+1,n)]\n",
    "    one_pidgeon_per_hole = [Or(Not(x[i][k]), Not(x[j][k])) for i in range(m) for j in range(i+1, m) for k in range(n)]\n",
    "    formula = And(And(pidgeon_has_a_hole), And(one_pidgeon_per_hole), And(one_hole_per_pidgeon))\n",
    "#     print(formula)\n",
    "    return formula\n",
    "\n",
    "print(solve(pidgeonhole_formula(m=3, n=3)))\n",
    "\n"
   ]
  },
  {
   "cell_type": "markdown",
   "metadata": {},
   "source": [
    "**Exercise 3 [All satisfying assignments].** The Z3 solver returns some satisfying assignment, just in case it exists. How can we use Z3 in order to construct all satisfying assignments? Write a Python program that returns all satisfying assignments of a given SAT instance and test it on the Pigeonhole formulas from the previous exercise."
   ]
  },
  {
   "cell_type": "code",
   "execution_count": 21,
   "metadata": {},
   "outputs": [
    {
     "name": "stdout",
     "output_type": "stream",
     "text": [
      "24\n"
     ]
    }
   ],
   "source": [
    "%%time\n",
    "#this will give statistics on the time needed to run the cell\n",
    "\n",
    "# this procedure returns an assignment (as a dictionary) if any exists\n",
    "def model(phi):\n",
    "    \n",
    "    # create a SAT instance\n",
    "    s = Solver()\n",
    "    s.add(phi)\n",
    "\n",
    "    # return a satisfying assignment as a dictionary\n",
    "    return s.model() if s.check() == sat else []\n",
    "\n",
    "p = Bool(\"p\")\n",
    "q = Bool(\"q\")\n",
    "r = Bool(\"r\")\n",
    "phi = Or(And(p, Not(q)), r)\n",
    "m = model(phi)\n",
    "\n",
    "def all_solutions(phi):\n",
    "    m = model(phi)\n",
    "    sols = []\n",
    "    while m:\n",
    "        sols.append(m)\n",
    "        last_valuation_formula = []\n",
    "        for key in m:\n",
    "            if m[key]:\n",
    "                last_valuation_formula.append(Bool(str(key)))\n",
    "            else:\n",
    "                last_valuation_formula.append(Not(Bool(str(key))))\n",
    "        phi = And(phi, Not(And(last_valuation_formula)))\n",
    "        m = model(phi)\n",
    "    return sols\n",
    "\n",
    "# print(all_solutions(phi))\n",
    "print(len(all_solutions(pidgeonhole_formula(m=5, n=5))))"
   ]
  },
  {
   "cell_type": "markdown",
   "metadata": {},
   "source": [
    "**Exercise 4 [Pebbling formulas].** This example shows that solvers can be fast on certain (unsatisfiable) fragments of SAT.\n",
    "For an $n \\times n$ grid, the $\\psi_n$ *pebbling formula* says that:\n",
    "1. There is a pebble on the bottom left vertex.\n",
    "2. A vertex is pebbled if both the neighbour to the left and below are pebbled.\n",
    "3. There is no pebble on the top right vertex.\n",
    "\n",
    "The formula $\\psi_n$ is clearly unsatisfiable. We are interested to determine whether this is a hard or an easy SAT instance.\n",
    "- Write down the CNF formula $\\psi_n$. Does this formula belong to some efficient class of SAT instances?\n",
    "- Write a Python program using Z3 to test satisfiability for $\\psi_n$. For how large $n$ is the running time feasible (e.g., <1 sec.)?"
   ]
  }
 ],
 "metadata": {
  "celltoolbar": "Tags",
  "kernelspec": {
   "display_name": "Python 3",
   "language": "python",
   "name": "python3"
  },
  "language_info": {
   "codemirror_mode": {
    "name": "ipython",
    "version": 3
   },
   "file_extension": ".py",
   "mimetype": "text/x-python",
   "name": "python",
   "nbconvert_exporter": "python",
   "pygments_lexer": "ipython3",
   "version": "3.6.3"
  }
 },
 "nbformat": 4,
 "nbformat_minor": 2
}
